{
  "nbformat": 4,
  "nbformat_minor": 0,
  "metadata": {
    "colab": {
      "provenance": [],
      "gpuType": "T4",
      "authorship_tag": "ABX9TyNlRv4DPce0RF/Si8t0Ataw"
    },
    "kernelspec": {
      "name": "python3",
      "display_name": "Python 3"
    },
    "language_info": {
      "name": "python"
    },
    "accelerator": "GPU"
  },
  "cells": [
    {
      "cell_type": "code",
      "source": [
        "from google.colab import drive\n",
        "drive.mount('/content/drive')"
      ],
      "metadata": {
        "colab": {
          "base_uri": "https://localhost:8080/"
        },
        "id": "fqSFksAUk6LF",
        "outputId": "c8bc30ca-ab94-4ce8-c7d0-26a12aca50aa"
      },
      "execution_count": 22,
      "outputs": [
        {
          "output_type": "stream",
          "name": "stdout",
          "text": [
            "Drive already mounted at /content/drive; to attempt to forcibly remount, call drive.mount(\"/content/drive\", force_remount=True).\n"
          ]
        }
      ]
    },
    {
      "cell_type": "code",
      "source": [
        "!pip install requests\n"
      ],
      "metadata": {
        "colab": {
          "base_uri": "https://localhost:8080/"
        },
        "id": "UGblNespmIL8",
        "outputId": "b923f901-bc83-4382-b849-bf39a021ee1f"
      },
      "execution_count": 27,
      "outputs": [
        {
          "output_type": "stream",
          "name": "stdout",
          "text": [
            "Requirement already satisfied: requests in /usr/local/lib/python3.10/dist-packages (2.31.0)\n",
            "Requirement already satisfied: charset-normalizer<4,>=2 in /usr/local/lib/python3.10/dist-packages (from requests) (3.3.2)\n",
            "Requirement already satisfied: idna<4,>=2.5 in /usr/local/lib/python3.10/dist-packages (from requests) (3.6)\n",
            "Requirement already satisfied: urllib3<3,>=1.21.1 in /usr/local/lib/python3.10/dist-packages (from requests) (2.0.7)\n",
            "Requirement already satisfied: certifi>=2017.4.17 in /usr/local/lib/python3.10/dist-packages (from requests) (2024.2.2)\n"
          ]
        }
      ]
    },
    {
      "cell_type": "code",
      "source": [
        "import requests\n",
        "import os\n",
        "\n",
        "# Replace 'YOUR_ACCESS_KEY' with your actual Unsplash API access key\n",
        "ACCESS_KEY = '3L-2OMTENGXoqVrm0lwH17ROPaCMHkfxcj4Rivjypqo'\n",
        "# Construct the Unsplash API URL with a broader search query\n",
        "url = f\"https://api.unsplash.com/search/photos?query=people&client_id={'3L-2OMTENGXoqVrm0lwH17ROPaCMHkfxcj4Rivjypqo'}\"\n",
        "\n",
        "# Make a GET request to the Unsplash API\n",
        "response = requests.get(url)\n",
        "\n",
        "# Check if the request was successful (status code 200)\n",
        "if response.status_code == 200:\n",
        "    # Parse the JSON response\n",
        "    data = response.json()\n",
        "\n",
        "    # Create a folder to save downloaded images\n",
        "    os.makedirs('face_images', exist_ok=True)\n",
        "\n",
        "    # Counter for downloaded images\n",
        "    downloaded_count = 0\n",
        "\n",
        "    # Loop through the search results\n",
        "    for result in data['results']:\n",
        "        # Download the image\n",
        "        img_url = result['urls']['full']\n",
        "        img_filename = f\"face_image_{downloaded_count + 1}.jpg\"\n",
        "        img_path = os.path.join('face_images', img_filename)\n",
        "        img_data = requests.get(img_url).content\n",
        "        with open(img_path, 'wb') as img_file:\n",
        "            img_file.write(img_data)\n",
        "        print(f\"Downloaded {img_filename}\")\n",
        "        downloaded_count += 1\n",
        "\n",
        "        # Check if desired number of images have been downloaded\n",
        "        if downloaded_count == 10:  # Adjust to desired number\n",
        "            break\n",
        "\n",
        "    if downloaded_count <= 10:  # Adjust to desired number\n",
        "        print(\"Warning: Retrieved fewer images than expected. Check if there are enough results on Unsplash for the specified query.\")\n",
        "else:\n",
        "    print(\"Error: Unable to fetch images from Unsplash API\")"
      ],
      "metadata": {
        "colab": {
          "base_uri": "https://localhost:8080/"
        },
        "id": "YTN2p63hOp0v",
        "outputId": "e3f396f9-980b-454b-9976-d6613248e7ee"
      },
      "execution_count": 28,
      "outputs": [
        {
          "output_type": "stream",
          "name": "stdout",
          "text": [
            "Downloaded face_image_1.jpg\n",
            "Downloaded face_image_2.jpg\n",
            "Downloaded face_image_3.jpg\n",
            "Downloaded face_image_4.jpg\n",
            "Downloaded face_image_5.jpg\n",
            "Downloaded face_image_6.jpg\n",
            "Downloaded face_image_7.jpg\n",
            "Downloaded face_image_8.jpg\n",
            "Downloaded face_image_9.jpg\n",
            "Downloaded face_image_10.jpg\n",
            "Warning: Retrieved fewer images than expected. Check if there are enough results on Unsplash for the specified query.\n"
          ]
        }
      ]
    },
    {
      "cell_type": "markdown",
      "source": [
        "**Title: Face Recognition Image Scraping from Unsplash\n",
        "\n",
        "Description:\n",
        "This project utilizes the Unsplash API to scrape images from the web for face recognition purposes. By specifying a search query for \"people,\" the script downloads a diverse range of images containing human faces. The downloaded images are saved locally for further processing and analysis. This project aims to gather a dataset of facial images to train machine learning models for face recognition tasks. With the flexibility to adjust parameters such as the search query and the number of downloaded images, this script provides a customizable solution for collecting image data for face recognition projects.**"
      ],
      "metadata": {
        "id": "-Sr1bXlMPk-z"
      }
    }
  ]
}