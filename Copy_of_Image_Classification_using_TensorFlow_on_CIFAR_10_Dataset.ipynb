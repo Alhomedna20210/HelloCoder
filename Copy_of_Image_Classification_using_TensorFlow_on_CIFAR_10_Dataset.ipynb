{
  "nbformat": 4,
  "nbformat_minor": 0,
  "metadata": {
    "colab": {
      "provenance": [],
      "authorship_tag": "ABX9TyN+om6qLODA1eumylY22Wd6"
    },
    "kernelspec": {
      "name": "python3",
      "display_name": "Python 3"
    },
    "language_info": {
      "name": "python"
    }
  },
  "cells": [
    {
      "cell_type": "code",
      "source": [
        "import tensorflow as tf"
      ],
      "metadata": {
        "id": "1IDbXrxvWhpi"
      },
      "execution_count": null,
      "outputs": []
    },
    {
      "cell_type": "code",
      "source": [
        "(X_train, y_train), (X_test, y_test) = tf.keras.datasets.cifar10.load_data()\n"
      ],
      "metadata": {
        "colab": {
          "base_uri": "https://localhost:8080/"
        },
        "id": "1rbrnprOj8YA",
        "outputId": "d3138a00-1df0-4337-b767-d520d07c247e"
      },
      "execution_count": null,
      "outputs": [
        {
          "output_type": "stream",
          "name": "stdout",
          "text": [
            "Downloading data from https://www.cs.toronto.edu/~kriz/cifar-10-python.tar.gz\n",
            "170498071/170498071 [==============================] - 3s 0us/step\n"
          ]
        }
      ]
    },
    {
      "cell_type": "code",
      "source": [
        "X_train = X_train / 255.0\n",
        "X_test = X_test / 255.0\n"
      ],
      "metadata": {
        "id": "YaxWiDunkJyH"
      },
      "execution_count": null,
      "outputs": []
    },
    {
      "cell_type": "code",
      "source": [
        "y_train = tf.keras.utils.to_categorical(y_train, num_classes=10)\n",
        "y_test = tf.keras.utils.to_categorical(y_test, num_classes=10)\n"
      ],
      "metadata": {
        "id": "UEfBxotDkTEG"
      },
      "execution_count": null,
      "outputs": []
    },
    {
      "cell_type": "code",
      "source": [
        "model = tf.keras.Sequential([\n",
        "    tf.keras.layers.Conv2D(32, (3, 3), activation='relu', input_shape=(32, 32, 3)),\n",
        "    tf.keras.layers.MaxPooling2D((2, 2)),\n",
        "    tf.keras.layers.Conv2D(64, (3, 3), activation='relu'),\n",
        "    tf.keras.layers.MaxPooling2D((2, 2)),\n",
        "    tf.keras.layers.Conv2D(64, (3, 3), activation='relu'),\n",
        "    tf.keras.layers.Flatten(),\n",
        "    tf.keras.layers.Dense(64, activation='relu'),\n",
        "    tf.keras.layers.Dense(10, activation='softmax')\n",
        "])\n"
      ],
      "metadata": {
        "id": "sjnZKlOLkYHe"
      },
      "execution_count": null,
      "outputs": []
    },
    {
      "cell_type": "code",
      "source": [
        "model.compile(optimizer='adam',\n",
        "              loss='categorical_crossentropy',\n",
        "              metrics=['accuracy'])\n"
      ],
      "metadata": {
        "id": "KAPnSOcVkdAj"
      },
      "execution_count": null,
      "outputs": []
    },
    {
      "cell_type": "code",
      "source": [
        "history = model.fit(X_train, y_train, epochs=10, validation_data=(X_test, y_test))\n"
      ],
      "metadata": {
        "colab": {
          "base_uri": "https://localhost:8080/"
        },
        "id": "BbmTT4LmkhJC",
        "outputId": "84ee8b67-cff6-4a21-bfd8-86bfcc03d683"
      },
      "execution_count": null,
      "outputs": [
        {
          "output_type": "stream",
          "name": "stdout",
          "text": [
            "Epoch 1/10\n",
            "1563/1563 [==============================] - 72s 45ms/step - loss: 1.4988 - accuracy: 0.4543 - val_loss: 1.2140 - val_accuracy: 0.5674\n",
            "Epoch 2/10\n",
            "1563/1563 [==============================] - 69s 44ms/step - loss: 1.1216 - accuracy: 0.6025 - val_loss: 1.0416 - val_accuracy: 0.6268\n",
            "Epoch 3/10\n",
            "1563/1563 [==============================] - 66s 42ms/step - loss: 0.9738 - accuracy: 0.6581 - val_loss: 1.0049 - val_accuracy: 0.6448\n",
            "Epoch 4/10\n",
            "1563/1563 [==============================] - 68s 44ms/step - loss: 0.8829 - accuracy: 0.6911 - val_loss: 0.8764 - val_accuracy: 0.6968\n",
            "Epoch 5/10\n",
            "1563/1563 [==============================] - 69s 44ms/step - loss: 0.8154 - accuracy: 0.7128 - val_loss: 0.8554 - val_accuracy: 0.7056\n",
            "Epoch 6/10\n",
            "1563/1563 [==============================] - 71s 45ms/step - loss: 0.7603 - accuracy: 0.7325 - val_loss: 0.8585 - val_accuracy: 0.7017\n",
            "Epoch 7/10\n",
            "1563/1563 [==============================] - 68s 44ms/step - loss: 0.7112 - accuracy: 0.7508 - val_loss: 0.8813 - val_accuracy: 0.6984\n",
            "Epoch 8/10\n",
            "1563/1563 [==============================] - 69s 44ms/step - loss: 0.6679 - accuracy: 0.7664 - val_loss: 0.8864 - val_accuracy: 0.6993\n",
            "Epoch 9/10\n",
            "1563/1563 [==============================] - 67s 43ms/step - loss: 0.6280 - accuracy: 0.7784 - val_loss: 0.8368 - val_accuracy: 0.7166\n",
            "Epoch 10/10\n",
            "1563/1563 [==============================] - 68s 43ms/step - loss: 0.5924 - accuracy: 0.7920 - val_loss: 0.8614 - val_accuracy: 0.7205\n"
          ]
        }
      ]
    },
    {
      "cell_type": "code",
      "source": [
        "test_loss, test_acc = model.evaluate(X_test, y_test)\n",
        "print(\"Test accuracy:\", test_acc)\n"
      ],
      "metadata": {
        "colab": {
          "base_uri": "https://localhost:8080/"
        },
        "id": "08maVZhRklbx",
        "outputId": "3cba7580-c28d-4f97-dfa2-39d3313aae32"
      },
      "execution_count": null,
      "outputs": [
        {
          "output_type": "stream",
          "name": "stdout",
          "text": [
            "313/313 [==============================] - 5s 15ms/step - loss: 0.8614 - accuracy: 0.7205\n",
            "Test accuracy: 0.7204999923706055\n"
          ]
        }
      ]
    },
    {
      "cell_type": "code",
      "source": [
        "import matplotlib.pyplot as plt\n",
        "\n",
        "plt.plot(history.history['accuracy'], label='accuracy')\n",
        "plt.plot(history.history['val_accuracy'], label = 'val_accuracy')\n",
        "plt.xlabel('Epoch')\n",
        "plt.ylabel('Accuracy')\n",
        "plt.legend(loc='lower right')\n",
        "plt.show()\n"
      ],
      "metadata": {
        "colab": {
          "base_uri": "https://localhost:8080/",
          "height": 449
        },
        "id": "od4VJwgAnl-0",
        "outputId": "f8751865-8341-4707-87f7-a31cb13b6d73"
      },
      "execution_count": null,
      "outputs": [
        {
          "output_type": "display_data",
          "data": {
            "text/plain": [
              "<Figure size 640x480 with 1 Axes>"
            ],
            "image/png": "[encoded data removed]"
          },
          "metadata": {}
        }
      ]
    },
    {
      "cell_type": "markdown",
      "source": [
        "Image Classification using TensorFlow on CIFAR-10 Dataset\n",
        "Overview\n",
        "Image classification is a fundamental task in computer vision, where the goal is to categorize images into predefined classes based on their visual content. In this project, we use TensorFlow, a popular deep learning framework, to build and train a convolutional neural network (CNN) for image classification on the CIFAR-10 dataset.\n",
        "\n",
        "Project Goals\n",
        "Train a deep learning model to classify images from the CIFAR-10 dataset into 10 different classes.\n",
        "Achieve high accuracy in classifying unseen test images.\n",
        "Gain hands-on experience with TensorFlow and deep learning concepts for image classification tasks.\n",
        "Dataset\n",
        "The CIFAR-10 dataset consists of 60,000 32x32 color images in 10 classes, with 6,000 images per class. The classes are: airplane, automobile, bird, cat, deer, dog, frog, horse, ship, and truck.\n",
        "\n",
        "Training Set: 50,000 images (5,000 images per class)\n",
        "Test Set: 10,000 images (1,000 images per class)\n",
        "Methodology\n",
        "Data Loading and Preprocessing:\n",
        "\n",
        "Load the CIFAR-10 dataset using TensorFlow's built-in dataset API.\n",
        "Preprocess the images by normalizing pixel values to the range [0, 1] and converting labels to one-hot encoding.\n",
        "Model Architecture:\n",
        "\n",
        "Design a convolutional neural network (CNN) architecture for image classification.\n",
        "Use convolutional layers followed by max-pooling layers to extract features from the images.\n",
        "Add fully connected layers for classification, with a softmax activation function for output probabilities.\n",
        "Model Training:\n",
        "\n",
        "Compile the model with an appropriate optimizer (e.g., Adam), loss function (e.g., categorical cross-entropy), and evaluation metric (e.g., accuracy).\n",
        "Train the model on the training dataset, iterating over multiple epochs.\n",
        "Monitor training progress and performance on the validation set to prevent overfitting.\n",
        "Model Evaluation:\n",
        "\n",
        "Evaluate the trained model on the test dataset to assess its performance on unseen data.\n",
        "Calculate classification accuracy and other relevant metrics to measure model performance.\n",
        "Visualization:\n",
        "\n",
        "Visualize training and validation accuracy/loss curves over epochs to assess model convergence and performance trends.\n",
        "Optionally, visualize sample predictions and ground truth labels to understand model predictions.\n",
        "Deployment (Optional):\n",
        "\n",
        "Save the trained model for future use or deploy it in production environments for inference on new images.\n",
        "Results\n",
        "Training Accuracy: Achieved accuracy on the training set.\n",
        "Validation Accuracy: Accuracy on the validation set during training.\n",
        "Test Accuracy: Accuracy on the test set, evaluating model performance on unseen data.\n",
        "Conclusion\n",
        "In this project, we successfully built and trained a deep learning model for image classification using TensorFlow on the CIFAR-10 dataset. By following standard deep learning practices, we achieved high accuracy in classifying images into their respective categories. This project serves as an introduction to image classification tasks and provides a foundation for more advanced computer vision projects.\n",
        "\n",
        "Future Work\n",
        "Experiment with different model architectures, hyperparameters, and optimization techniques to further improve performance.\n",
        "Explore advanced techniques such as data augmentation, transfer learning, and model ensembling for enhanced results.\n",
        "Apply the learned concepts to real-world image classification problems in domains like healthcare, agriculture, and autonomous vehicles.\n"
      ],
      "metadata": {
        "id": "6mvRzzyTxnh3"
      }
    }
  ]
}